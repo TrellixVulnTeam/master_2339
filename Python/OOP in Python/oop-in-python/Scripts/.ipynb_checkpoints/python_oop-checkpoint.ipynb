{
 "cells": [
  {
   "cell_type": "code",
   "execution_count": 40,
   "id": "71db5d83",
   "metadata": {},
   "outputs": [
    {
     "name": "stdout",
     "output_type": "stream",
     "text": [
      "12\n",
      "5\n",
      "Steve\n",
      "1\n",
      "Tom\n",
      "2\n",
      "5\n"
     ]
    }
   ],
   "source": [
    "class sample_class():\n",
    "    \n",
    "    class_attr = 5\n",
    "    incrementing_index = 0\n",
    "    \n",
    "    #constructor\n",
    "    def __init__(self, one, two, name):\n",
    "        #self.var = 0\n",
    "        \n",
    "        #sample_class.incrementing_index += 1\n",
    "        \n",
    "        sample_class.incrementing_index += 1\n",
    "        \n",
    "        self.first = one\n",
    "        self.second = two\n",
    "        self.instance_attr = name\n",
    "        \n",
    "    def print_vars():\n",
    "        print(self.first)\n",
    "\n",
    "#create class instance\n",
    "obj_1 = sample_class(12, 24, \"Steve\")\n",
    "\n",
    "print(obj_1.first)\n",
    "print(obj_1.class_attr)\n",
    "print(obj_1.instance_attr)\n",
    "print(obj_1.incrementing_index)\n",
    "\n",
    "obj_2 = sample_class(13, 26, \"Tom\")\n",
    "\n",
    "print(obj_2.instance_attr)\n",
    "print(obj_2.incrementing_index)\n",
    "print(sample_class.class_attr)\n",
    "#obj.print_vars()"
   ]
  },
  {
   "cell_type": "code",
   "execution_count": 18,
   "id": "87ce0ec9",
   "metadata": {},
   "outputs": [
    {
     "name": "stdout",
     "output_type": "stream",
     "text": [
      "Help on sample_class in module __main__ object:\n",
      "\n",
      "class sample_class(builtins.object)\n",
      " |  sample_class(one, two)\n",
      " |  \n",
      " |  Methods defined here:\n",
      " |  \n",
      " |  __init__(self, one, two)\n",
      " |      Initialize self.  See help(type(self)) for accurate signature.\n",
      " |  \n",
      " |  print_vars()\n",
      " |  \n",
      " |  ----------------------------------------------------------------------\n",
      " |  Data descriptors defined here:\n",
      " |  \n",
      " |  __dict__\n",
      " |      dictionary for instance variables (if defined)\n",
      " |  \n",
      " |  __weakref__\n",
      " |      list of weak references to the object (if defined)\n",
      " |  \n",
      " |  ----------------------------------------------------------------------\n",
      " |  Data and other attributes defined here:\n",
      " |  \n",
      " |  class_attr = 5\n",
      "\n"
     ]
    }
   ],
   "source": [
    "help(obj)"
   ]
  },
  {
   "cell_type": "code",
   "execution_count": 62,
   "id": "2a36b502",
   "metadata": {},
   "outputs": [],
   "source": [
    "class Candy():\n",
    "    \n",
    "    def __init__ (self, _brand = \"Hershey's\", _name = \"Dark Chocolate Bar\", _is_caramel = False, _has_nuts = False, _type = 'chocolate', _calories = 200):\n",
    "        \n",
    "        self.brand = _brand\n",
    "        self.has_nuts = _has_nuts\n",
    "        self.type = _type\n",
    "        self.name = _name\n",
    "        \n",
    "    #instance method - can access or modify state\n",
    "    def display(self):\n",
    "        print(\"My favorite candy is:\", self.brand, self.name)\n",
    "        \n",
    "    #class method - used to create specific instance of a class\n",
    "    @classmethod\n",
    "    def snickers(cls):\n",
    "        return cls('Mars', 'Snickers', _is_caramel = True, _has_nuts = True)\n",
    "        \n",
    "    #static methods used for cmparison and validation\n",
    "    @staticmethod\n",
    "    def calories(size,n):\n",
    "        #calculate calories based on size and number\n",
    "        if size == 'large':\n",
    "            calories = 500\n",
    "        elif size == 'regular':\n",
    "            calories = 350\n",
    "        elif size == 'small':\n",
    "            calories = 100\n",
    "        else:\n",
    "            calories = 0\n",
    "            \n",
    "        calories = calories*n\n",
    "        return calories\n",
    "    \n",
    "favorite_candy = Candy(_brand=\"Mars\")        "
   ]
  },
  {
   "cell_type": "code",
   "execution_count": 56,
   "id": "bd2dd8e4",
   "metadata": {},
   "outputs": [
    {
     "name": "stdout",
     "output_type": "stream",
     "text": [
      "My favorite candy is: Mars Snickers\n"
     ]
    }
   ],
   "source": [
    "snickers_bar = Candy.snickers()\n",
    "snickers_bar.display()"
   ]
  },
  {
   "cell_type": "code",
   "execution_count": 39,
   "id": "788400e8",
   "metadata": {},
   "outputs": [
    {
     "data": {
      "text/plain": [
       "'Mars'"
      ]
     },
     "execution_count": 39,
     "metadata": {},
     "output_type": "execute_result"
    }
   ],
   "source": [
    "favorite_candy.brand"
   ]
  },
  {
   "cell_type": "code",
   "execution_count": 49,
   "id": "4a382f58",
   "metadata": {},
   "outputs": [
    {
     "name": "stdout",
     "output_type": "stream",
     "text": [
      "My favorite candy is: Mars Dark Chocolate Bar\n"
     ]
    }
   ],
   "source": [
    "favorite_candy.display()"
   ]
  },
  {
   "cell_type": "code",
   "execution_count": null,
   "id": "c6bdf221",
   "metadata": {},
   "outputs": [],
   "source": [
    "Candy.calories('large',2)"
   ]
  },
  {
   "cell_type": "code",
   "execution_count": 44,
   "id": "48759e58",
   "metadata": {},
   "outputs": [
    {
     "name": "stdout",
     "output_type": "stream",
     "text": [
      "Decorator is running\n",
      "Hello there\n",
      "still running\n"
     ]
    }
   ],
   "source": [
    "def the_decorator(func):\n",
    "    print('Decorator is running')\n",
    "    func()\n",
    "    print('still running')\n",
    "\n",
    "def oh_hi():\n",
    "    print('Hello there')\n",
    "    \n",
    "hello = the_decorator(oh_hi)"
   ]
  },
  {
   "cell_type": "code",
   "execution_count": 46,
   "id": "99c72e33",
   "metadata": {},
   "outputs": [
    {
     "name": "stdout",
     "output_type": "stream",
     "text": [
      "Decorator is running\n",
      "Hello there\n",
      "still running\n",
      "Hello there\n"
     ]
    }
   ],
   "source": [
    "def the_decorator(func):\n",
    "    print('Decorator is running')\n",
    "    func()\n",
    "    print('still running')\n",
    "    func()\n",
    "\n",
    "@the_decorator\n",
    "def oh_hi():\n",
    "    print('Hello there')\n",
    "    \n",
    "hello = oh_hi"
   ]
  },
  {
   "cell_type": "code",
   "execution_count": 86,
   "id": "6607bac1",
   "metadata": {},
   "outputs": [
    {
     "name": "stdout",
     "output_type": "stream",
     "text": [
      "The plant pine is 24 old\n",
      "The plant apple is 3 old\n",
      "\n",
      "\n"
     ]
    }
   ],
   "source": [
    "class Plant:\n",
    "    def __init__ (self, p_type, months):\n",
    "        self._bloom = \"\"\n",
    "        self.p_type = p_type\n",
    "        self.age(months,p_type)\n",
    "        \n",
    "    def age(self, months, p_type):\n",
    "        print(\"The plant \" + p_type + \" is \" + str(months) + \" old\")\n",
    "    \n",
    "    #getter\n",
    "    @property\n",
    "    def bloom(self):\n",
    "        return self._bloom\n",
    "    \n",
    "    #setter - extends the getter\n",
    "    @bloom.setter\n",
    "    def bloom(self, bloom):\n",
    "        self._bloom = bloom\n",
    "    \n",
    "pine = Plant(\"pine\",24)\n",
    "apple = Plant(\"apple\",3)\n",
    "\n",
    "print(pine.bloom)\n",
    "\n",
    "pine.bloom(\"cone\")\n",
    "\n",
    "print(pine.bloom)\n",
    "\n",
    "    \n",
    "    \n",
    "class Succulent(Plant):\n",
    "    def __init__(self, p_type, months):\n",
    "        #Plant.__init__(self, p_type, months)\n",
    "        super().__init__(p_type, months)"
   ]
  },
  {
   "cell_type": "code",
   "execution_count": 79,
   "id": "b76762d9",
   "metadata": {},
   "outputs": [
    {
     "ename": "TypeError",
     "evalue": "can only concatenate str (not \"int\") to str",
     "output_type": "error",
     "traceback": [
      "\u001b[1;31m---------------------------------------------------------------------------\u001b[0m",
      "\u001b[1;31mTypeError\u001b[0m                                 Traceback (most recent call last)",
      "Input \u001b[1;32mIn [79]\u001b[0m, in \u001b[0;36m<module>\u001b[1;34m\u001b[0m\n\u001b[1;32m----> 1\u001b[0m obj_seedling \u001b[38;5;241m=\u001b[39m \u001b[43mSucculent\u001b[49m\u001b[43m(\u001b[49m\u001b[38;5;124;43m'\u001b[39;49m\u001b[38;5;124;43mseedling\u001b[39;49m\u001b[38;5;124;43m'\u001b[39;49m\u001b[43m,\u001b[49m\u001b[43m \u001b[49m\u001b[38;5;241;43m2\u001b[39;49m\u001b[43m)\u001b[49m\n",
      "Input \u001b[1;32mIn [78]\u001b[0m, in \u001b[0;36mSucculent.__init__\u001b[1;34m(self, p_type, months)\u001b[0m\n\u001b[0;32m     10\u001b[0m \u001b[38;5;28;01mdef\u001b[39;00m \u001b[38;5;21m__init__\u001b[39m(\u001b[38;5;28mself\u001b[39m, p_type, months):\n\u001b[0;32m     11\u001b[0m     \u001b[38;5;66;03m#Plant.__init__(self, p_type, months)\u001b[39;00m\n\u001b[1;32m---> 12\u001b[0m     \u001b[38;5;28;43msuper\u001b[39;49m\u001b[43m(\u001b[49m\u001b[43m)\u001b[49m\u001b[38;5;241;43m.\u001b[39;49m\u001b[38;5;21;43m__init__\u001b[39;49m\u001b[43m(\u001b[49m\u001b[43mp_type\u001b[49m\u001b[43m,\u001b[49m\u001b[43m \u001b[49m\u001b[43mmonths\u001b[49m\u001b[43m)\u001b[49m\n",
      "Input \u001b[1;32mIn [78]\u001b[0m, in \u001b[0;36mPlant.__init__\u001b[1;34m(self, p_type, months)\u001b[0m\n\u001b[0;32m      2\u001b[0m \u001b[38;5;28;01mdef\u001b[39;00m \u001b[38;5;21m__init__\u001b[39m (\u001b[38;5;28mself\u001b[39m, p_type, months):\n\u001b[0;32m      3\u001b[0m     \u001b[38;5;28mself\u001b[39m\u001b[38;5;241m.\u001b[39mp_type \u001b[38;5;241m=\u001b[39m p_type\n\u001b[1;32m----> 4\u001b[0m     \u001b[38;5;28;43mself\u001b[39;49m\u001b[38;5;241;43m.\u001b[39;49m\u001b[43mage\u001b[49m\u001b[43m(\u001b[49m\u001b[43mmonths\u001b[49m\u001b[43m,\u001b[49m\u001b[43mp_type\u001b[49m\u001b[43m)\u001b[49m\n",
      "Input \u001b[1;32mIn [78]\u001b[0m, in \u001b[0;36mPlant.age\u001b[1;34m(self, months, p_type)\u001b[0m\n\u001b[0;32m      6\u001b[0m \u001b[38;5;28;01mdef\u001b[39;00m \u001b[38;5;21mage\u001b[39m(\u001b[38;5;28mself\u001b[39m, months, p_type):\n\u001b[1;32m----> 7\u001b[0m     \u001b[38;5;28mprint\u001b[39m(\u001b[38;5;124;43m\"\u001b[39;49m\u001b[38;5;124;43mThe plant \u001b[39;49m\u001b[38;5;124;43m\"\u001b[39;49m\u001b[43m \u001b[49m\u001b[38;5;241;43m+\u001b[39;49m\u001b[43m \u001b[49m\u001b[43mp_type\u001b[49m\u001b[43m \u001b[49m\u001b[38;5;241;43m+\u001b[39;49m\u001b[43m \u001b[49m\u001b[38;5;124;43m\"\u001b[39;49m\u001b[38;5;124;43m is \u001b[39;49m\u001b[38;5;124;43m\"\u001b[39;49m\u001b[43m \u001b[49m\u001b[38;5;241;43m+\u001b[39;49m\u001b[43m \u001b[49m\u001b[43mmonths\u001b[49m \u001b[38;5;241m+\u001b[39m \u001b[38;5;124m\"\u001b[39m\u001b[38;5;124m old\u001b[39m\u001b[38;5;124m\"\u001b[39m)\n",
      "\u001b[1;31mTypeError\u001b[0m: can only concatenate str (not \"int\") to str"
     ]
    }
   ],
   "source": [
    "obj_seedling = Succulent('seedling', 2)"
   ]
  },
  {
   "cell_type": "code",
   "execution_count": null,
   "id": "ef0b293b",
   "metadata": {},
   "outputs": [],
   "source": [
    "class Plant():\n",
    "    def type(self):\n",
    "        print(\"A plant\")\n",
    "        \n",
    "class Succulent(Plant):\n",
    "    def type(self):\n",
    "        print(\"A Succulent\")\n",
    "        print(\"the plant is \", months, \"months old.\")\n",
    "        \n",
    "class Tree(Plant):\n",
    "    def type(self):\n",
    "        print(\"A Tree\")"
   ]
  },
  {
   "cell_type": "code",
   "execution_count": null,
   "id": "c525b8d8",
   "metadata": {},
   "outputs": [],
   "source": [
    "#Getters and Setters - class variables / attributes should not be set directly\n",
    "\n",
    "class Plant:\n",
    "    def __init__(self, months):\n",
    "            self._bloom = \"\"\n",
    "            "
   ]
  }
 ],
 "metadata": {
  "kernelspec": {
   "display_name": "Python 3 (ipykernel)",
   "language": "python",
   "name": "python3"
  },
  "language_info": {
   "codemirror_mode": {
    "name": "ipython",
    "version": 3
   },
   "file_extension": ".py",
   "mimetype": "text/x-python",
   "name": "python",
   "nbconvert_exporter": "python",
   "pygments_lexer": "ipython3",
   "version": "3.8.10"
  }
 },
 "nbformat": 4,
 "nbformat_minor": 5
}
