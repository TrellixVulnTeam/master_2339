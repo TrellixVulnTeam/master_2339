{
 "cells": [
  {
   "cell_type": "code",
   "execution_count": 1,
   "metadata": {},
   "outputs": [],
   "source": [
    "class a_sample_class:\n",
    "    #can mutate a class attribute to be an instance attribute. What? \n",
    "    class_attr = 5\n",
    "    count = 0\n",
    "    \n",
    "    #constructor\n",
    "    def __init__(self, one, two):\n",
    "        #self.var = 0\n",
    "        self.first = one\n",
    "        self.second = two\n",
    "        \n",
    "        #changes to class attribute will make it an instance attribute since\n",
    "        #it is immutable\n",
    "        a_sample_class.count+=1\n",
    "        \n",
    "        \n",
    "#create instance of class\n",
    "obj = a_sample_class(17,42)\n"
   ]
  },
  {
   "cell_type": "code",
   "execution_count": 2,
   "metadata": {},
   "outputs": [],
   "source": [
    "obj2 = a_sample_class(12,24)"
   ]
  },
  {
   "cell_type": "code",
   "execution_count": 3,
   "metadata": {},
   "outputs": [
    {
     "name": "stdout",
     "output_type": "stream",
     "text": [
      "2\n"
     ]
    }
   ],
   "source": [
    "print(obj2.count)"
   ]
  },
  {
   "cell_type": "code",
   "execution_count": 4,
   "metadata": {},
   "outputs": [
    {
     "name": "stdout",
     "output_type": "stream",
     "text": [
      "17\n"
     ]
    }
   ],
   "source": [
    "print(obj.first)"
   ]
  },
  {
   "cell_type": "code",
   "execution_count": 5,
   "metadata": {},
   "outputs": [
    {
     "name": "stdout",
     "output_type": "stream",
     "text": [
      "5\n"
     ]
    }
   ],
   "source": [
    "print(obj.class_attr)"
   ]
  },
  {
   "cell_type": "code",
   "execution_count": 6,
   "metadata": {},
   "outputs": [
    {
     "ename": "AttributeError",
     "evalue": "type object 'a_sample_class' has no attribute 'first'",
     "output_type": "error",
     "traceback": [
      "\u001b[1;31m---------------------------------------------------------------------------\u001b[0m",
      "\u001b[1;31mAttributeError\u001b[0m                            Traceback (most recent call last)",
      "\u001b[1;32m<ipython-input-6-5d61520ff057>\u001b[0m in \u001b[0;36m<module>\u001b[1;34m\u001b[0m\n\u001b[1;32m----> 1\u001b[1;33m \u001b[0mprint\u001b[0m\u001b[1;33m(\u001b[0m\u001b[0ma_sample_class\u001b[0m\u001b[1;33m.\u001b[0m\u001b[0mfirst\u001b[0m\u001b[1;33m)\u001b[0m\u001b[1;33m\u001b[0m\u001b[1;33m\u001b[0m\u001b[0m\n\u001b[0m",
      "\u001b[1;31mAttributeError\u001b[0m: type object 'a_sample_class' has no attribute 'first'"
     ]
    }
   ],
   "source": [
    "print(a_sample_class.first)"
   ]
  },
  {
   "cell_type": "code",
   "execution_count": 7,
   "metadata": {},
   "outputs": [
    {
     "name": "stdout",
     "output_type": "stream",
     "text": [
      "5\n"
     ]
    }
   ],
   "source": [
    "print(a_sample_class.class_attr)"
   ]
  },
  {
   "cell_type": "code",
   "execution_count": 8,
   "metadata": {},
   "outputs": [
    {
     "name": "stdout",
     "output_type": "stream",
     "text": [
      "Help on a_sample_class in module __main__ object:\n",
      "\n",
      "class a_sample_class(builtins.object)\n",
      " |  a_sample_class(one, two)\n",
      " |  \n",
      " |  Methods defined here:\n",
      " |  \n",
      " |  __init__(self, one, two)\n",
      " |      Initialize self.  See help(type(self)) for accurate signature.\n",
      " |  \n",
      " |  ----------------------------------------------------------------------\n",
      " |  Data descriptors defined here:\n",
      " |  \n",
      " |  __dict__\n",
      " |      dictionary for instance variables (if defined)\n",
      " |  \n",
      " |  __weakref__\n",
      " |      list of weak references to the object (if defined)\n",
      " |  \n",
      " |  ----------------------------------------------------------------------\n",
      " |  Data and other attributes defined here:\n",
      " |  \n",
      " |  class_attr = 5\n",
      " |  \n",
      " |  count = 2\n",
      "\n"
     ]
    }
   ],
   "source": [
    "help(obj)"
   ]
  },
  {
   "cell_type": "code",
   "execution_count": 9,
   "metadata": {},
   "outputs": [],
   "source": [
    "class Candy():\n",
    "    is_caramel = False\n",
    "    has_nuts = False\n",
    "    \n",
    "    def __init__(self,_brand,_type='chocolate'):\n",
    "        self.type = _type\n",
    "        self.brand = _brand\n",
    "        \n",
    "favorite_candy = Candy(_brand='Nestle')\n",
    "\n"
   ]
  },
  {
   "cell_type": "code",
   "execution_count": 10,
   "metadata": {},
   "outputs": [
    {
     "data": {
      "text/plain": [
       "['Candy',\n",
       " 'In',\n",
       " 'Out',\n",
       " '_',\n",
       " '__',\n",
       " '___',\n",
       " '__builtin__',\n",
       " '__builtins__',\n",
       " '__doc__',\n",
       " '__loader__',\n",
       " '__name__',\n",
       " '__package__',\n",
       " '__spec__',\n",
       " '_dh',\n",
       " '_i',\n",
       " '_i1',\n",
       " '_i10',\n",
       " '_i2',\n",
       " '_i3',\n",
       " '_i4',\n",
       " '_i5',\n",
       " '_i6',\n",
       " '_i7',\n",
       " '_i8',\n",
       " '_i9',\n",
       " '_ih',\n",
       " '_ii',\n",
       " '_iii',\n",
       " '_oh',\n",
       " 'a_sample_class',\n",
       " 'exit',\n",
       " 'favorite_candy',\n",
       " 'get_ipython',\n",
       " 'obj',\n",
       " 'obj2',\n",
       " 'quit']"
      ]
     },
     "execution_count": 10,
     "metadata": {},
     "output_type": "execute_result"
    }
   ],
   "source": [
    "#names in current local scope\n",
    "dir()"
   ]
  },
  {
   "cell_type": "code",
   "execution_count": 11,
   "metadata": {},
   "outputs": [
    {
     "data": {
      "text/plain": [
       "{'__name__': '__main__',\n",
       " '__doc__': 'Automatically created module for IPython interactive environment',\n",
       " '__package__': None,\n",
       " '__loader__': None,\n",
       " '__spec__': None,\n",
       " '__builtin__': <module 'builtins' (built-in)>,\n",
       " '__builtins__': <module 'builtins' (built-in)>,\n",
       " '_ih': ['',\n",
       "  'class a_sample_class:\\n    #can mutate a class attribute to be an instance attribute. What? \\n    class_attr = 5\\n    count = 0\\n    \\n    #constructor\\n    def __init__(self, one, two):\\n        #self.var = 0\\n        self.first = one\\n        self.second = two\\n        \\n        #changes to class attribute will make it an instance attribute since\\n        #it is immutable\\n        a_sample_class.count+=1\\n        \\n        \\n#create instance of class\\nobj = a_sample_class(17,42)',\n",
       "  'obj2 = a_sample_class(12,24)',\n",
       "  'print(obj2.count)',\n",
       "  'print(obj.first)',\n",
       "  'print(obj.class_attr)',\n",
       "  'print(a_sample_class.first)',\n",
       "  'print(a_sample_class.class_attr)',\n",
       "  'help(obj)',\n",
       "  \"class Candy():\\n    is_caramel = False\\n    has_nuts = False\\n    \\n    def __init__(self,_brand,_type='chocolate'):\\n        self.type = _type\\n        self.brand = _brand\\n        \\nfavorite_candy = Candy(_brand='Nestle')\",\n",
       "  '#names in current local scope\\ndir()',\n",
       "  '#returns current module namespace\\n#namespace = mapping between objects and names, currently defined names\\n# and info about the object each name references\\n# https://docs.python.org/3/library/functions.html \\nglobals()'],\n",
       " '_oh': {10: ['Candy',\n",
       "   'In',\n",
       "   'Out',\n",
       "   '_',\n",
       "   '__',\n",
       "   '___',\n",
       "   '__builtin__',\n",
       "   '__builtins__',\n",
       "   '__doc__',\n",
       "   '__loader__',\n",
       "   '__name__',\n",
       "   '__package__',\n",
       "   '__spec__',\n",
       "   '_dh',\n",
       "   '_i',\n",
       "   '_i1',\n",
       "   '_i10',\n",
       "   '_i2',\n",
       "   '_i3',\n",
       "   '_i4',\n",
       "   '_i5',\n",
       "   '_i6',\n",
       "   '_i7',\n",
       "   '_i8',\n",
       "   '_i9',\n",
       "   '_ih',\n",
       "   '_ii',\n",
       "   '_iii',\n",
       "   '_oh',\n",
       "   'a_sample_class',\n",
       "   'exit',\n",
       "   'favorite_candy',\n",
       "   'get_ipython',\n",
       "   'obj',\n",
       "   'obj2',\n",
       "   'quit']},\n",
       " '_dh': ['C:\\\\Users\\\\alm0708\\\\Documents\\\\daugherty-u-de\\\\Python\\\\Python OOP'],\n",
       " 'In': ['',\n",
       "  'class a_sample_class:\\n    #can mutate a class attribute to be an instance attribute. What? \\n    class_attr = 5\\n    count = 0\\n    \\n    #constructor\\n    def __init__(self, one, two):\\n        #self.var = 0\\n        self.first = one\\n        self.second = two\\n        \\n        #changes to class attribute will make it an instance attribute since\\n        #it is immutable\\n        a_sample_class.count+=1\\n        \\n        \\n#create instance of class\\nobj = a_sample_class(17,42)',\n",
       "  'obj2 = a_sample_class(12,24)',\n",
       "  'print(obj2.count)',\n",
       "  'print(obj.first)',\n",
       "  'print(obj.class_attr)',\n",
       "  'print(a_sample_class.first)',\n",
       "  'print(a_sample_class.class_attr)',\n",
       "  'help(obj)',\n",
       "  \"class Candy():\\n    is_caramel = False\\n    has_nuts = False\\n    \\n    def __init__(self,_brand,_type='chocolate'):\\n        self.type = _type\\n        self.brand = _brand\\n        \\nfavorite_candy = Candy(_brand='Nestle')\",\n",
       "  '#names in current local scope\\ndir()',\n",
       "  '#returns current module namespace\\n#namespace = mapping between objects and names, currently defined names\\n# and info about the object each name references\\n# https://docs.python.org/3/library/functions.html \\nglobals()'],\n",
       " 'Out': {10: ['Candy',\n",
       "   'In',\n",
       "   'Out',\n",
       "   '_',\n",
       "   '__',\n",
       "   '___',\n",
       "   '__builtin__',\n",
       "   '__builtins__',\n",
       "   '__doc__',\n",
       "   '__loader__',\n",
       "   '__name__',\n",
       "   '__package__',\n",
       "   '__spec__',\n",
       "   '_dh',\n",
       "   '_i',\n",
       "   '_i1',\n",
       "   '_i10',\n",
       "   '_i2',\n",
       "   '_i3',\n",
       "   '_i4',\n",
       "   '_i5',\n",
       "   '_i6',\n",
       "   '_i7',\n",
       "   '_i8',\n",
       "   '_i9',\n",
       "   '_ih',\n",
       "   '_ii',\n",
       "   '_iii',\n",
       "   '_oh',\n",
       "   'a_sample_class',\n",
       "   'exit',\n",
       "   'favorite_candy',\n",
       "   'get_ipython',\n",
       "   'obj',\n",
       "   'obj2',\n",
       "   'quit']},\n",
       " 'get_ipython': <bound method InteractiveShell.get_ipython of <ipykernel.zmqshell.ZMQInteractiveShell object at 0x00000260E77E00A0>>,\n",
       " 'exit': <IPython.core.autocall.ZMQExitAutocall at 0x260e7873d30>,\n",
       " 'quit': <IPython.core.autocall.ZMQExitAutocall at 0x260e7873d30>,\n",
       " '_': ['Candy',\n",
       "  'In',\n",
       "  'Out',\n",
       "  '_',\n",
       "  '__',\n",
       "  '___',\n",
       "  '__builtin__',\n",
       "  '__builtins__',\n",
       "  '__doc__',\n",
       "  '__loader__',\n",
       "  '__name__',\n",
       "  '__package__',\n",
       "  '__spec__',\n",
       "  '_dh',\n",
       "  '_i',\n",
       "  '_i1',\n",
       "  '_i10',\n",
       "  '_i2',\n",
       "  '_i3',\n",
       "  '_i4',\n",
       "  '_i5',\n",
       "  '_i6',\n",
       "  '_i7',\n",
       "  '_i8',\n",
       "  '_i9',\n",
       "  '_ih',\n",
       "  '_ii',\n",
       "  '_iii',\n",
       "  '_oh',\n",
       "  'a_sample_class',\n",
       "  'exit',\n",
       "  'favorite_candy',\n",
       "  'get_ipython',\n",
       "  'obj',\n",
       "  'obj2',\n",
       "  'quit'],\n",
       " '__': '',\n",
       " '___': '',\n",
       " '_i': '#names in current local scope\\ndir()',\n",
       " '_ii': \"class Candy():\\n    is_caramel = False\\n    has_nuts = False\\n    \\n    def __init__(self,_brand,_type='chocolate'):\\n        self.type = _type\\n        self.brand = _brand\\n        \\nfavorite_candy = Candy(_brand='Nestle')\",\n",
       " '_iii': 'help(obj)',\n",
       " '_i1': 'class a_sample_class:\\n    #can mutate a class attribute to be an instance attribute. What? \\n    class_attr = 5\\n    count = 0\\n    \\n    #constructor\\n    def __init__(self, one, two):\\n        #self.var = 0\\n        self.first = one\\n        self.second = two\\n        \\n        #changes to class attribute will make it an instance attribute since\\n        #it is immutable\\n        a_sample_class.count+=1\\n        \\n        \\n#create instance of class\\nobj = a_sample_class(17,42)',\n",
       " 'a_sample_class': __main__.a_sample_class,\n",
       " 'obj': <__main__.a_sample_class at 0x260e78ba760>,\n",
       " '_i2': 'obj2 = a_sample_class(12,24)',\n",
       " 'obj2': <__main__.a_sample_class at 0x260e78ba340>,\n",
       " '_i3': 'print(obj2.count)',\n",
       " '_i4': 'print(obj.first)',\n",
       " '_i5': 'print(obj.class_attr)',\n",
       " '_i6': 'print(a_sample_class.first)',\n",
       " '_i7': 'print(a_sample_class.class_attr)',\n",
       " '_i8': 'help(obj)',\n",
       " '_i9': \"class Candy():\\n    is_caramel = False\\n    has_nuts = False\\n    \\n    def __init__(self,_brand,_type='chocolate'):\\n        self.type = _type\\n        self.brand = _brand\\n        \\nfavorite_candy = Candy(_brand='Nestle')\",\n",
       " 'Candy': __main__.Candy,\n",
       " 'favorite_candy': <__main__.Candy at 0x260e7984280>,\n",
       " '_i10': '#names in current local scope\\ndir()',\n",
       " '_10': ['Candy',\n",
       "  'In',\n",
       "  'Out',\n",
       "  '_',\n",
       "  '__',\n",
       "  '___',\n",
       "  '__builtin__',\n",
       "  '__builtins__',\n",
       "  '__doc__',\n",
       "  '__loader__',\n",
       "  '__name__',\n",
       "  '__package__',\n",
       "  '__spec__',\n",
       "  '_dh',\n",
       "  '_i',\n",
       "  '_i1',\n",
       "  '_i10',\n",
       "  '_i2',\n",
       "  '_i3',\n",
       "  '_i4',\n",
       "  '_i5',\n",
       "  '_i6',\n",
       "  '_i7',\n",
       "  '_i8',\n",
       "  '_i9',\n",
       "  '_ih',\n",
       "  '_ii',\n",
       "  '_iii',\n",
       "  '_oh',\n",
       "  'a_sample_class',\n",
       "  'exit',\n",
       "  'favorite_candy',\n",
       "  'get_ipython',\n",
       "  'obj',\n",
       "  'obj2',\n",
       "  'quit'],\n",
       " '_i11': '#returns current module namespace\\n#namespace = mapping between objects and names, currently defined names\\n# and info about the object each name references\\n# https://docs.python.org/3/library/functions.html \\nglobals()'}"
      ]
     },
     "execution_count": 11,
     "metadata": {},
     "output_type": "execute_result"
    }
   ],
   "source": [
    "#returns current module namespace\n",
    "#namespace = mapping between objects and names, currently defined names\n",
    "# and info about the object each name references\n",
    "# https://docs.python.org/3/library/functions.html \n",
    "globals()"
   ]
  },
  {
   "cell_type": "markdown",
   "metadata": {},
   "source": [
    "# Decorators"
   ]
  },
  {
   "cell_type": "code",
   "execution_count": 12,
   "metadata": {},
   "outputs": [
    {
     "name": "stdout",
     "output_type": "stream",
     "text": [
      "decorator is running\n",
      "Hello there!\n",
      "still running\n"
     ]
    }
   ],
   "source": [
    "def the_decorator(func):\n",
    "    print(\"decorator is running\")\n",
    "    func()\n",
    "    print(\"still running\")\n",
    "\n",
    "@the_decorator\n",
    "def oh_hi():\n",
    "    print(\"Hello there!\")\n",
    "\n",
    "#hello = the_decorator(oh_hi)"
   ]
  },
  {
   "cell_type": "code",
   "execution_count": 13,
   "metadata": {},
   "outputs": [],
   "source": [
    "class Candy():\n",
    "    \n",
    "    def __init__(self,_brand,_name,_is_caramel,_has_nuts,_calories=200,_type='chocolate'):\n",
    "        self.type = _type\n",
    "        self.brand = _brand\n",
    "        self.name = _name\n",
    "        self.is_caramel = _is_caramel\n",
    "        self.has_nuts = _has_nuts\n",
    "        \n",
    "    #instance methods - access or modify state\n",
    "    def display(self):\n",
    "        print('My favorite candy is', self.brand, self.name)\n",
    "    \n",
    "    #class methods - used to create specific instance of class\n",
    "    @classmethod\n",
    "    def snickers(cls):\n",
    "        return cls('Mars','Snickers',_is_caramel=True,_has_nuts=True)\n",
    "    \n",
    "    #static methods - used for comparison and validation\n",
    "    #commonly used in data for checking if data meets conditions\n",
    "    #if you want the value without needing an instance of it\n",
    "    @staticmethod\n",
    "    def calories(size,n):\n",
    "        #calculate calories based on size and number\n",
    "        if size == 'Large':\n",
    "            calories = 500\n",
    "        elif size == 'regular':\n",
    "            calories = 350\n",
    "        elif size == 'funsized':\n",
    "            calories = 100\n",
    "        else:\n",
    "            calories = 0\n",
    "            \n",
    "        calories = calories*n\n",
    "        return calories\n",
    "    \n",
    "#favorite_candy = Candy(_name='dark chocolate',_brand='Hersheys')\n"
   ]
  },
  {
   "cell_type": "code",
   "execution_count": 14,
   "metadata": {},
   "outputs": [],
   "source": [
    "snickers_bar = Candy.snickers()"
   ]
  },
  {
   "cell_type": "code",
   "execution_count": 15,
   "metadata": {},
   "outputs": [
    {
     "name": "stdout",
     "output_type": "stream",
     "text": [
      "My favorite candy is Mars Snickers\n"
     ]
    }
   ],
   "source": [
    "snickers_bar.display()"
   ]
  },
  {
   "cell_type": "code",
   "execution_count": 16,
   "metadata": {},
   "outputs": [
    {
     "data": {
      "text/plain": [
       "2000"
      ]
     },
     "execution_count": 16,
     "metadata": {},
     "output_type": "execute_result"
    }
   ],
   "source": [
    "Candy.calories('funsized',20)"
   ]
  },
  {
   "cell_type": "markdown",
   "metadata": {},
   "source": [
    "# Inheritance"
   ]
  },
  {
   "cell_type": "code",
   "execution_count": 17,
   "metadata": {},
   "outputs": [],
   "source": [
    "class Plant: \n",
    "    def __init__(self, p_type, months):\n",
    "        self.p_type = p_type\n",
    "        self.age(months,p_type)\n",
    "\n",
    "    def age(self,months,p_type): \n",
    "        print(\"The\", p_type,\"is\", months, \"months old\") \n",
    "        \n",
    "#extend plant class\n",
    "class Succulent(Plant):\n",
    "    #overrides\n",
    "    def __init__(self, p_type, months):\n",
    "        #Plant.__init__(self, p_type, months)\n",
    "        #can use super to inherit methods and properties from parent\n",
    "        super().__init__(p_type,months)"
   ]
  },
  {
   "cell_type": "code",
   "execution_count": 18,
   "metadata": {},
   "outputs": [
    {
     "name": "stdout",
     "output_type": "stream",
     "text": [
      "The parent is 36 months old\n"
     ]
    }
   ],
   "source": [
    "obj_plant = Plant('parent',36)"
   ]
  },
  {
   "cell_type": "code",
   "execution_count": 19,
   "metadata": {},
   "outputs": [
    {
     "name": "stdout",
     "output_type": "stream",
     "text": [
      "The seedling is 2 months old\n"
     ]
    }
   ],
   "source": [
    "obj_succulent = Succulent('seedling',2)"
   ]
  },
  {
   "cell_type": "code",
   "execution_count": 20,
   "metadata": {},
   "outputs": [],
   "source": [
    "#polymorphism with inheritence\n",
    "class Plant:\n",
    "    def type(self):\n",
    "        print('A plant')\n",
    "    def age(self, months):\n",
    "        print('The plant is',months,'months old')\n",
    "        \n",
    "#extend plant class\n",
    "class Succulent(Plant):\n",
    "    def type(self):\n",
    "        print('A succulent')\n",
    "\n",
    "#subclass/derived class\n",
    "class Tree(Plant):\n",
    "    def type(self):\n",
    "        print('A tree')"
   ]
  },
  {
   "cell_type": "code",
   "execution_count": 21,
   "metadata": {},
   "outputs": [
    {
     "name": "stdout",
     "output_type": "stream",
     "text": [
      "A plant\n",
      "The plant is 12 months old\n"
     ]
    }
   ],
   "source": [
    "obj_plant = Plant()\n",
    "obj_plant.type()\n",
    "obj_plant.age(12)"
   ]
  },
  {
   "cell_type": "code",
   "execution_count": 22,
   "metadata": {},
   "outputs": [
    {
     "name": "stdout",
     "output_type": "stream",
     "text": [
      "A succulent\n",
      "The plant is 24 months old\n",
      "A tree\n",
      "The plant is 36 months old\n"
     ]
    }
   ],
   "source": [
    "obj_succulent = Succulent()\n",
    "obj_tree = Tree()\n",
    "\n",
    "obj_succulent.type()\n",
    "obj_succulent.age(24)\n",
    "\n",
    "obj_tree.type()\n",
    "obj_tree.age(36)"
   ]
  },
  {
   "cell_type": "markdown",
   "metadata": {},
   "source": [
    "# Getters and Setters "
   ]
  },
  {
   "cell_type": "code",
   "execution_count": 23,
   "metadata": {},
   "outputs": [
    {
     "name": "stdout",
     "output_type": "stream",
     "text": [
      "the plant is 24 months old\n",
      "the plant is 48 months old\n"
     ]
    }
   ],
   "source": [
    "#class variables/attributes do not need to be (and in many cases should not be)\n",
    "#set directly\n",
    "#getters and setters are an example of encapsulation\n",
    "class Plant:\n",
    "    def __init__(self,months):\n",
    "        #_variable , the underscore implies a private variable\n",
    "        self._bloom = \"None\"\n",
    "        self.age(months)\n",
    "        \n",
    "    def type(self):\n",
    "        print('A plant')\n",
    "    \n",
    "    def age(self,months):\n",
    "        print('the plant is', months,'months old')\n",
    "        \n",
    "    #getter\n",
    "    @property\n",
    "    def bloom(self):\n",
    "        return self._bloom\n",
    "    \n",
    "    #setter - extends the getter\n",
    "    @bloom.setter\n",
    "    def bloom(self,bloom):\n",
    "        self._bloom = bloom\n",
    "        \n",
    "pine = Plant(24)\n",
    "apple = Plant(48)"
   ]
  },
  {
   "cell_type": "code",
   "execution_count": 24,
   "metadata": {},
   "outputs": [
    {
     "name": "stdout",
     "output_type": "stream",
     "text": [
      "None\n"
     ]
    }
   ],
   "source": [
    "#reference getters\n",
    "print(pine.bloom)"
   ]
  },
  {
   "cell_type": "code",
   "execution_count": 25,
   "metadata": {},
   "outputs": [],
   "source": [
    "#setting value\n",
    "pine.bloom= 'cone'"
   ]
  },
  {
   "cell_type": "code",
   "execution_count": 26,
   "metadata": {},
   "outputs": [
    {
     "name": "stdout",
     "output_type": "stream",
     "text": [
      "cone\n"
     ]
    }
   ],
   "source": [
    "#reference getters\n",
    "print(pine.bloom)"
   ]
  },
  {
   "cell_type": "code",
   "execution_count": null,
   "metadata": {},
   "outputs": [],
   "source": []
  }
 ],
 "metadata": {
  "kernelspec": {
   "display_name": "Python 3",
   "language": "python",
   "name": "python3"
  },
  "language_info": {
   "codemirror_mode": {
    "name": "ipython",
    "version": 3
   },
   "file_extension": ".py",
   "mimetype": "text/x-python",
   "name": "python",
   "nbconvert_exporter": "python",
   "pygments_lexer": "ipython3",
   "version": "3.8.3"
  }
 },
 "nbformat": 4,
 "nbformat_minor": 4
}
